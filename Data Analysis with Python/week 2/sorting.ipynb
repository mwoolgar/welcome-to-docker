{
 "cells": [
  {
   "cell_type": "markdown",
   "metadata": {},
   "source": [
    "https://cmdlinetips.com/2018/02/how-to-sort-pandas-dataframe-by-columns-and-row/"
   ]
  },
  {
   "cell_type": "code",
   "execution_count": 13,
   "metadata": {},
   "outputs": [
    {
     "name": "stdout",
     "output_type": "stream",
     "text": [
      "       country  year         pop continent  lifeExp   gdpPercap\n",
      "0  Afghanistan  1952   8425333.0      Asia   28.801  779.445314\n",
      "1  Afghanistan  1957   9240934.0      Asia   30.332  820.853030\n",
      "2  Afghanistan  1962  10267083.0      Asia   31.997  853.100710\n"
     ]
    }
   ],
   "source": [
    "import pandas as pd\n",
    "\n",
    "data_url = 'https://raw.githubusercontent.com/resbaz/r-novice-gapminder-files/master/data/gapminder-FiveYearData.csv'\n",
    "# read data from url as pandas dataframe\n",
    "gapminder = pd.read_csv(data_url)\n",
    "# print the first three rows\n",
    "print(gapminder.head(3))"
   ]
  },
  {
   "cell_type": "markdown",
   "metadata": {},
   "source": [
    "#### 1. How to Sort Pandas Dataframe based on the values of a column?\n",
    "We can sort pandas dataframe based on the values of a single column by specifying the column name wwe want to sort as input argument to sort_values(). For example, we can sort by the values of “lifeExp” column in the gapminder data like"
   ]
  },
  {
   "cell_type": "code",
   "execution_count": 12,
   "metadata": {
    "scrolled": true
   },
   "outputs": [
    {
     "name": "stdout",
     "output_type": "stream",
     "text": [
      "           country  year        pop continent  lifeExp    gdpPercap\n",
      "1292        Rwanda  1992  7290203.0    Africa   23.599   737.068595\n",
      "0      Afghanistan  1952  8425333.0      Asia   28.801   779.445314\n",
      "552         Gambia  1952   284320.0    Africa   30.000   485.230659\n",
      "36          Angola  1952  4232095.0    Africa   30.015  3520.610273\n",
      "1344  Sierra Leone  1952  2143249.0    Africa   30.331   879.787736\n"
     ]
    }
   ],
   "source": [
    "sort_by_life = gapminder.sort_values('lifeExp')\n",
    "print(sort_by_life.head())"
   ]
  },
  {
   "cell_type": "code",
   "execution_count": 11,
   "metadata": {},
   "outputs": [
    {
     "name": "stdout",
     "output_type": "stream",
     "text": [
      "          country  year        pop continent  lifeExp   gdpPercap\n",
      "552        Gambia  1952   284320.0    Africa   30.000  485.230659\n",
      "0     Afghanistan  1952  8425333.0      Asia   28.801  779.445314\n",
      "1292       Rwanda  1992  7290203.0    Africa   23.599  737.068595\n"
     ]
    }
   ],
   "source": [
    "print(sort_by_life.tail(n=3))"
   ]
  },
  {
   "cell_type": "markdown",
   "metadata": {},
   "source": [
    "#### 2. How to Sort Pandas Dataframe based on the values of a column (Descending order)?\n",
    "To sort a dataframe based on the values of a column but in descending order so that the largest values of the column are at the top, we can use the argument ascending=False."
   ]
  },
  {
   "cell_type": "code",
   "execution_count": 15,
   "metadata": {},
   "outputs": [
    {
     "name": "stdout",
     "output_type": "stream",
     "text": [
      "              country  year          pop continent  lifeExp    gdpPercap\n",
      "803             Japan  2007  127467972.0      Asia   82.603  31656.06806\n",
      "671   Hong Kong China  2007    6980412.0      Asia   82.208  39724.97867\n",
      "802             Japan  2002  127065841.0      Asia   82.000  28604.59190\n",
      "695           Iceland  2007     301931.0    Europe   81.757  36180.78919\n",
      "1487      Switzerland  2007    7554661.0    Europe   81.701  37506.41907\n"
     ]
    }
   ],
   "source": [
    "sort_by_life = gapminder.sort_values('lifeExp',ascending=False)\n",
    "print(sort_by_life.head())"
   ]
  },
  {
   "cell_type": "markdown",
   "metadata": {},
   "source": [
    "### 3. How to Sort Pandas Dataframe based on a column and put missing values first?\n",
    "Often a data frame might contain missing values and when sorting a data frame on a column with missing value, we might want to have rows with missing values to be at the first or at the last.\n",
    "\n",
    "We can specify the position we want for missing values using the argument na_position. With na_position=’first’, it will have the rows with missing values first."
   ]
  },
  {
   "cell_type": "code",
   "execution_count": 17,
   "metadata": {},
   "outputs": [
    {
     "data": {
      "text/html": [
       "<div>\n",
       "<style scoped>\n",
       "    .dataframe tbody tr th:only-of-type {\n",
       "        vertical-align: middle;\n",
       "    }\n",
       "\n",
       "    .dataframe tbody tr th {\n",
       "        vertical-align: top;\n",
       "    }\n",
       "\n",
       "    .dataframe thead th {\n",
       "        text-align: right;\n",
       "    }\n",
       "</style>\n",
       "<table border=\"1\" class=\"dataframe\">\n",
       "  <thead>\n",
       "    <tr style=\"text-align: right;\">\n",
       "      <th></th>\n",
       "      <th>country</th>\n",
       "      <th>year</th>\n",
       "      <th>pop</th>\n",
       "      <th>continent</th>\n",
       "      <th>lifeExp</th>\n",
       "      <th>gdpPercap</th>\n",
       "    </tr>\n",
       "  </thead>\n",
       "  <tbody>\n",
       "    <tr>\n",
       "      <td>1292</td>\n",
       "      <td>Rwanda</td>\n",
       "      <td>1992</td>\n",
       "      <td>7290203.0</td>\n",
       "      <td>Africa</td>\n",
       "      <td>23.599</td>\n",
       "      <td>737.068595</td>\n",
       "    </tr>\n",
       "    <tr>\n",
       "      <td>0</td>\n",
       "      <td>Afghanistan</td>\n",
       "      <td>1952</td>\n",
       "      <td>8425333.0</td>\n",
       "      <td>Asia</td>\n",
       "      <td>28.801</td>\n",
       "      <td>779.445314</td>\n",
       "    </tr>\n",
       "    <tr>\n",
       "      <td>552</td>\n",
       "      <td>Gambia</td>\n",
       "      <td>1952</td>\n",
       "      <td>284320.0</td>\n",
       "      <td>Africa</td>\n",
       "      <td>30.000</td>\n",
       "      <td>485.230659</td>\n",
       "    </tr>\n",
       "    <tr>\n",
       "      <td>36</td>\n",
       "      <td>Angola</td>\n",
       "      <td>1952</td>\n",
       "      <td>4232095.0</td>\n",
       "      <td>Africa</td>\n",
       "      <td>30.015</td>\n",
       "      <td>3520.610273</td>\n",
       "    </tr>\n",
       "    <tr>\n",
       "      <td>1344</td>\n",
       "      <td>Sierra Leone</td>\n",
       "      <td>1952</td>\n",
       "      <td>2143249.0</td>\n",
       "      <td>Africa</td>\n",
       "      <td>30.331</td>\n",
       "      <td>879.787736</td>\n",
       "    </tr>\n",
       "  </tbody>\n",
       "</table>\n",
       "</div>"
      ],
      "text/plain": [
       "           country  year        pop continent  lifeExp    gdpPercap\n",
       "1292        Rwanda  1992  7290203.0    Africa   23.599   737.068595\n",
       "0      Afghanistan  1952  8425333.0      Asia   28.801   779.445314\n",
       "552         Gambia  1952   284320.0    Africa   30.000   485.230659\n",
       "36          Angola  1952  4232095.0    Africa   30.015  3520.610273\n",
       "1344  Sierra Leone  1952  2143249.0    Africa   30.331   879.787736"
      ]
     },
     "execution_count": 17,
     "metadata": {},
     "output_type": "execute_result"
    }
   ],
   "source": [
    "sort_na_first = gapminder.sort_values('lifeExp',na_position='first')\n",
    "sort_na_first.head()"
   ]
  },
  {
   "cell_type": "markdown",
   "metadata": {},
   "source": [
    "#### 4. How to Sort Pandas Dataframe based on a column in place?\n",
    "By default sorting pandas data frame using sort_values() or sort_index() creates a new data frame. If you don’t want create a new data frame after sorting and just want to do the sort in place, you can use the argument “inplace = True”. Here is an example of sorting a pandas data frame in place without creating a new data frame."
   ]
  },
  {
   "cell_type": "code",
   "execution_count": 10,
   "metadata": {},
   "outputs": [
    {
     "name": "stdout",
     "output_type": "stream",
     "text": [
      "              country  year          pop continent  lifeExp    gdpPercap\n",
      "803             Japan  2007  127467972.0      Asia   82.603  31656.06806\n",
      "671   Hong Kong China  2007    6980412.0      Asia   82.208  39724.97867\n",
      "802             Japan  2002  127065841.0      Asia   82.000  28604.59190\n",
      "695           Iceland  2007     301931.0    Europe   81.757  36180.78919\n",
      "1487      Switzerland  2007    7554661.0    Europe   81.701  37506.41907\n"
     ]
    }
   ],
   "source": [
    "gapminder.sort_values('lifeExp', inplace=True, ascending=False)\n",
    "print(gapminder.head())"
   ]
  },
  {
   "cell_type": "markdown",
   "metadata": {},
   "source": [
    "#### 5. How to Sort Pandas Dataframe based on Index (in place)?\n"
   ]
  },
  {
   "cell_type": "code",
   "execution_count": 18,
   "metadata": {},
   "outputs": [
    {
     "name": "stdout",
     "output_type": "stream",
     "text": [
      "       country  year         pop continent  lifeExp   gdpPercap\n",
      "0  Afghanistan  1952   8425333.0      Asia   28.801  779.445314\n",
      "1  Afghanistan  1957   9240934.0      Asia   30.332  820.853030\n",
      "2  Afghanistan  1962  10267083.0      Asia   31.997  853.100710\n",
      "3  Afghanistan  1967  11537966.0      Asia   34.020  836.197138\n",
      "4  Afghanistan  1972  13079460.0      Asia   36.088  739.981106\n"
     ]
    }
   ],
   "source": [
    "gapminder.sort_index(inplace=True)\n",
    "print(gapminder.head())"
   ]
  },
  {
   "cell_type": "markdown",
   "metadata": {},
   "source": [
    "#### 6. How to Sort Pandas Dataframe Based on the Values of Multiple Columns?\n",
    "Often, you might want to sort a data frame based on the values of multiple columns. We can specify the columns we want to sort by as a list in the argument for sort_values(). For example, to sort by values of two columns, we can do."
   ]
  },
  {
   "cell_type": "code",
   "execution_count": 21,
   "metadata": {},
   "outputs": [
    {
     "name": "stdout",
     "output_type": "stream",
     "text": [
      "           country  year        pop continent  lifeExp    gdpPercap\n",
      "1292        Rwanda  1992  7290203.0    Africa   23.599   737.068595\n",
      "0      Afghanistan  1952  8425333.0      Asia   28.801   779.445314\n",
      "552         Gambia  1952   284320.0    Africa   30.000   485.230659\n",
      "36          Angola  1952  4232095.0    Africa   30.015  3520.610273\n",
      "1344  Sierra Leone  1952  2143249.0    Africa   30.331   879.787736\n"
     ]
    }
   ],
   "source": [
    "sort_by_life_gdp = gapminder.sort_values(['lifeExp','gdpPercap'])\n",
    "print(sort_by_life_gdp.head())"
   ]
  },
  {
   "cell_type": "code",
   "execution_count": 22,
   "metadata": {},
   "outputs": [
    {
     "name": "stdout",
     "output_type": "stream",
     "text": [
      "             country  year         pop continent  lifeExp   gdpPercap\n",
      "334  Congo Dem. Rep.  2002  55379852.0    Africa   44.966  241.165877\n",
      "335  Congo Dem. Rep.  2007  64606759.0    Africa   46.462  277.551859\n",
      "876          Lesotho  1952    748747.0    Africa   42.138  298.846212\n",
      "624    Guinea-Bissau  1952    580653.0    Africa   32.500  299.850319\n",
      "333  Congo Dem. Rep.  1997  47798986.0    Africa   42.587  312.188423\n"
     ]
    }
   ],
   "source": [
    "sort_by_life_gdp = gapminder.sort_values(['gdpPercap','lifeExp'])\n",
    "print(sort_by_life_gdp.head())"
   ]
  },
  {
   "cell_type": "code",
   "execution_count": null,
   "metadata": {},
   "outputs": [],
   "source": []
  }
 ],
 "metadata": {
  "kernelspec": {
   "display_name": "Python 3",
   "language": "python",
   "name": "python3"
  },
  "language_info": {
   "codemirror_mode": {
    "name": "ipython",
    "version": 3
   },
   "file_extension": ".py",
   "mimetype": "text/x-python",
   "name": "python",
   "nbconvert_exporter": "python",
   "pygments_lexer": "ipython3",
   "version": "3.7.4"
  }
 },
 "nbformat": 4,
 "nbformat_minor": 2
}
